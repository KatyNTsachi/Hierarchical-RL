{
 "cells": [
  {
   "cell_type": "code",
   "execution_count": 31,
   "metadata": {},
   "outputs": [],
   "source": [
    "import json\n",
    "import numpy as np\n",
    "import matplotlib.pyplot as plt\n",
    "file_path = \"/home/deep7/hierarchy/Hierarchical-RL/baselines/data/breakout.json\"\n",
    "\n",
    "with open(file_path, 'r') as fp:\n",
    "    obj = json.load(fp)\n",
    "    \n",
    "    "
   ]
  },
  {
   "cell_type": "code",
   "execution_count": 32,
   "metadata": {},
   "outputs": [
    {
     "name": "stdout",
     "output_type": "stream",
     "text": [
      "no good\n",
      "(5, 199)\n"
     ]
    }
   ],
   "source": [
    "# print(obj)\n",
    "all_return = []\n",
    "for tmp_obj in obj:\n",
    "#     print(tmp_obj)\n",
    "    try:\n",
    "        if tmp_obj[u'Agent'] == u'DQN':\n",
    "            if tmp_obj[u'Iteration'] == 0:\n",
    "                all_return.append([])\n",
    "            all_return[-1].append(tmp_obj[u'Value'] )\n",
    "    except:\n",
    "        print(\"no good\")\n",
    "print(np.shape(all_return))"
   ]
  },
  {
   "cell_type": "code",
   "execution_count": 40,
   "metadata": {},
   "outputs": [
    {
     "data": {
      "image/png": "[encoded data removed]",
      "text/plain": [
       "<Figure size 432x288 with 1 Axes>"
      ]
     },
     "metadata": {
      "needs_background": "light"
     },
     "output_type": "display_data"
    }
   ],
   "source": [
    "all_return_mean = np.mean(all_return, axis = 0)\n",
    "all_return_std = np.std(all_return, axis = 0)\n",
    "\n",
    "N = 10\n",
    "all_return_mean_smooth = np.convolve(all_return_mean, np.ones((N,))/N, mode='same')\n",
    "all_return_std_smooth = np.convolve(all_return_std, np.ones((N,))/N, mode='same')\n",
    "\n",
    "size_of_array = np.shape(all_return_mean)[0]\n",
    "\n",
    "#fix end\n",
    "all_return_mean_smooth[size_of_array -N/2 - 2:size_of_array ] = all_return_mean_smooth[-N/2]\n",
    "all_return_std_smooth[size_of_array -N/2 - 2:size_of_array ] = all_return_std_smooth[-N/2]\n",
    "\n",
    "#fix beginnign\n",
    "all_return_mean_smooth[0 : N/2 +1 ] = all_return_mean_smooth[N/2 + 2]\n",
    "all_return_std_smooth[0 : N/2 +1 ] = all_return_std_smooth[N/2 + 2]\n",
    "\n",
    "\n",
    "\n",
    "t = range(np.shape(all_return_mean)[0])\n",
    "fig, ax = plt.subplots(1)\n",
    "ax.plot(t, all_return_mean_smooth, lw=1, color='red')\n",
    "ax.fill_between(t, all_return_mean_smooth+all_return_std_smooth, all_return_mean_smooth-all_return_std_smooth, facecolor='blue', alpha=0.5)\n",
    "ax.set_title('return of DQN agent on Breakout')\n",
    "ax.set_xlabel('step')\n",
    "ax.set_ylabel('return')\n",
    "ax.grid()\n",
    "ax.set_xlim([0, 600])\n",
    "ax.set_ylim([0, 400])\n",
    "\n",
    "fig.savefig('all_return_DOPAMINE.svg')"
   ]
  },
  {
   "cell_type": "code",
   "execution_count": null,
   "metadata": {},
   "outputs": [],
   "source": []
  },
  {
   "cell_type": "code",
   "execution_count": null,
   "metadata": {},
   "outputs": [],
   "source": []
  }
 ],
 "metadata": {
  "kernelspec": {
   "display_name": "Python 3",
   "language": "python",
   "name": "python3"
  },
  "language_info": {
   "codemirror_mode": {
    "name": "ipython",
    "version": 2
   },
   "file_extension": ".py",
   "mimetype": "text/x-python",
   "name": "python",
   "nbconvert_exporter": "python",
   "pygments_lexer": "ipython2",
   "version": "2.7.15rc1"
  }
 },
 "nbformat": 4,
 "nbformat_minor": 2
}
