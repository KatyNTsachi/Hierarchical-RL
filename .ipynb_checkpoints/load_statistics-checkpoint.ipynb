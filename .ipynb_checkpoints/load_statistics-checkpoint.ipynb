{
 "cells": [
  {
   "cell_type": "code",
   "execution_count": null,
   "metadata": {
    "cellView": "form",
    "colab": {},
    "colab_type": "code",
    "id": "w5-Emz9PKoUq",
    "scrolled": false
   },
   "outputs": [],
   "source": [
    "# @title Necessary imports and globals.\n",
    "%matplotlib inline\n",
    "\n",
    "import numpy as np\n",
    "import os\n",
    "from dopamine.agents.dqn import dqn_agent\n",
    "from dopamine.discrete_domains import run_experiment\n",
    "from dopamine.colab import utils as colab_utils\n",
    "from absl import flags\n",
    "\n",
    "BASE_PATH = './'  # @param\n",
    "GAMES = ['cars']  # @param\n",
    "\n",
    "import matplotlib.pyplot as plt\n",
    "\n",
    "for game in GAMES:\n",
    "  # Use our provided colab utils to load this log file. The second returned \n",
    "  raw_data, _ = colab_utils.load_statistics(\n",
    "      'LOGS/logs'.format(game), verbose=False)\n",
    "  summarized_data = colab_utils.summarize_data(\n",
    "      raw_data, ['train_episode_returns'])\n",
    "  plt.plot(summarized_data['train_episode_returns'], label='episode returns')\n",
    "  plt.plot()\n",
    "  plt.xlabel('Iteration')\n",
    "  plt.ylabel('Return')\n",
    "  plt.legend()\n",
    "  plt.show()"
   ]
  }
 ],
 "metadata": {
  "colab": {
   "name": "load_statistics.ipynb",
   "provenance": [],
   "toc_visible": true,
   "version": "0.3.2"
  },
  "kernelspec": {
   "display_name": "Python 3",
   "language": "python",
   "name": "python3"
  },
  "language_info": {
   "codemirror_mode": {
    "name": "ipython",
    "version": 2
   },
   "file_extension": ".py",
   "mimetype": "text/x-python",
   "name": "python",
   "nbconvert_exporter": "python",
   "pygments_lexer": "ipython2",
   "version": "2.7.15rc1"
  }
 },
 "nbformat": 4,
 "nbformat_minor": 1
}
