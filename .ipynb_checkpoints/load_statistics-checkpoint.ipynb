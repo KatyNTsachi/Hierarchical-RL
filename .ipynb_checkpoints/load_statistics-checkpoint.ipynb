{
 "cells": [
  {
   "cell_type": "code",
   "execution_count": 6,
   "metadata": {
    "cellView": "form",
    "colab": {},
    "colab_type": "code",
    "id": "w5-Emz9PKoUq"
   },
   "outputs": [
    {
     "ename": "ValueError",
     "evalue": "No log data found at ~/hierarchy/Hierarchical-RL/logs/",
     "output_type": "error",
     "traceback": [
      "\u001b[0;31m---------------------------------------------------------------------------\u001b[0m",
      "\u001b[0;31mValueError\u001b[0m                                Traceback (most recent call last)",
      "\u001b[0;32m<ipython-input-6-7ed4faad384f>\u001b[0m in \u001b[0;36m<module>\u001b[0;34m()\u001b[0m\n\u001b[1;32m     16\u001b[0m   \u001b[0;31m# Use our provided colab utils to load this log file. The second returned\u001b[0m\u001b[0;34m\u001b[0m\u001b[0;34m\u001b[0m\u001b[0m\n\u001b[1;32m     17\u001b[0m   raw_data, _ = colab_utils.load_statistics(\n\u001b[0;32m---> 18\u001b[0;31m       '~/hierarchy/Hierarchical-RL/logs/'.format(game), verbose=False)\n\u001b[0m\u001b[1;32m     19\u001b[0m   summarized_data = colab_utils.summarize_data(\n\u001b[1;32m     20\u001b[0m       raw_data, ['train_episode_returns'])\n",
      "\u001b[0;32m/home/deep7/hierarchy/Hierarchical-RL/dopamine/colab/utils.py\u001b[0m in \u001b[0;36mload_statistics\u001b[0;34m(log_path, iteration_number, verbose)\u001b[0m\n\u001b[1;32m    103\u001b[0m   \u001b[0;31m# If no iteration is specified, we'll look for the most recent.\u001b[0m\u001b[0;34m\u001b[0m\u001b[0;34m\u001b[0m\u001b[0m\n\u001b[1;32m    104\u001b[0m   \u001b[0;32mif\u001b[0m \u001b[0miteration_number\u001b[0m \u001b[0;32mis\u001b[0m \u001b[0mNone\u001b[0m\u001b[0;34m:\u001b[0m\u001b[0;34m\u001b[0m\u001b[0m\n\u001b[0;32m--> 105\u001b[0;31m     \u001b[0miteration_number\u001b[0m \u001b[0;34m=\u001b[0m \u001b[0mget_latest_iteration\u001b[0m\u001b[0;34m(\u001b[0m\u001b[0mlog_path\u001b[0m\u001b[0;34m)\u001b[0m\u001b[0;34m\u001b[0m\u001b[0m\n\u001b[0m\u001b[1;32m    106\u001b[0m \u001b[0;34m\u001b[0m\u001b[0m\n\u001b[1;32m    107\u001b[0m   \u001b[0mlog_file\u001b[0m \u001b[0;34m=\u001b[0m \u001b[0;34m'%s/%s_%d'\u001b[0m \u001b[0;34m%\u001b[0m \u001b[0;34m(\u001b[0m\u001b[0mlog_path\u001b[0m\u001b[0;34m,\u001b[0m \u001b[0mFILE_PREFIX\u001b[0m\u001b[0;34m,\u001b[0m \u001b[0miteration_number\u001b[0m\u001b[0;34m)\u001b[0m\u001b[0;34m\u001b[0m\u001b[0m\n",
      "\u001b[0;32m/home/deep7/hierarchy/Hierarchical-RL/dopamine/colab/utils.py\u001b[0m in \u001b[0;36mget_latest_iteration\u001b[0;34m(path)\u001b[0m\n\u001b[1;32m    148\u001b[0m \u001b[0;34m\u001b[0m\u001b[0m\n\u001b[1;32m    149\u001b[0m   \u001b[0;32mif\u001b[0m \u001b[0;32mnot\u001b[0m \u001b[0mlog_files\u001b[0m\u001b[0;34m:\u001b[0m\u001b[0;34m\u001b[0m\u001b[0m\n\u001b[0;32m--> 150\u001b[0;31m     \u001b[0;32mraise\u001b[0m \u001b[0mValueError\u001b[0m\u001b[0;34m(\u001b[0m\u001b[0;34m'No log data found at {}'\u001b[0m\u001b[0;34m.\u001b[0m\u001b[0mformat\u001b[0m\u001b[0;34m(\u001b[0m\u001b[0mpath\u001b[0m\u001b[0;34m)\u001b[0m\u001b[0;34m)\u001b[0m\u001b[0;34m\u001b[0m\u001b[0m\n\u001b[0m\u001b[1;32m    151\u001b[0m \u001b[0;34m\u001b[0m\u001b[0m\n\u001b[1;32m    152\u001b[0m   \u001b[0;32mdef\u001b[0m \u001b[0mextract_iteration\u001b[0m\u001b[0;34m(\u001b[0m\u001b[0mx\u001b[0m\u001b[0;34m)\u001b[0m\u001b[0;34m:\u001b[0m\u001b[0;34m\u001b[0m\u001b[0m\n",
      "\u001b[0;31mValueError\u001b[0m: No log data found at ~/hierarchy/Hierarchical-RL/logs/"
     ]
    }
   ],
   "source": [
    "# @title Necessary imports and globals.\n",
    "\n",
    "import numpy as np\n",
    "import os\n",
    "from dopamine.agents.dqn import dqn_agent\n",
    "from dopamine.discrete_domains import run_experiment\n",
    "from dopamine.colab import utils as colab_utils\n",
    "from absl import flags\n",
    "\n",
    "BASE_PATH = './'  # @param\n",
    "GAMES = ['cars']  # @param\n",
    "\n",
    "import matplotlib.pyplot as plt\n",
    "\n",
    "for game in GAMES:\n",
    "  # Use our provided colab utils to load this log file. The second returned \n",
    "  raw_data, _ = colab_utils.load_statistics(\n",
    "      '~/hierarchy/Hierarchical-RL/logs'.format(game), verbose=False)\n",
    "  summarized_data = colab_utils.summarize_data(\n",
    "      raw_data, ['train_episode_returns'])\n",
    "  plt.plot(summarized_data['train_episode_returns'], label='episode returns')\n",
    "  plt.plot()\n",
    "  plt.xlabel('Iteration')\n",
    "  plt.ylabel('Return')\n",
    "  plt.legend()\n",
    "  plt.show()"
   ]
  }
 ],
 "metadata": {
  "colab": {
   "name": "load_statistics.ipynb",
   "provenance": [],
   "toc_visible": true,
   "version": "0.3.2"
  },
  "kernelspec": {
   "display_name": "Python 3",
   "language": "python",
   "name": "python3"
  },
  "language_info": {
   "codemirror_mode": {
    "name": "ipython",
    "version": 2
   },
   "file_extension": ".py",
   "mimetype": "text/x-python",
   "name": "python",
   "nbconvert_exporter": "python",
   "pygments_lexer": "ipython2",
   "version": "2.7.15rc1"
  }
 },
 "nbformat": 4,
 "nbformat_minor": 1
}
