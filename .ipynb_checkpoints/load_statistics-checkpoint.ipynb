{
 "cells": [
  {
   "cell_type": "code",
   "execution_count": 1,
   "metadata": {
    "cellView": "form",
    "colab": {},
    "colab_type": "code",
    "id": "VQBg6yl8Kk1K"
   },
   "outputs": [
    {
     "name": "stdout",
     "output_type": "stream",
     "text": [
      "\u001b[33mDEPRECATION: Python 2.7 will reach the end of its life on January 1st, 2020. Please upgrade your Python as Python 2.7 won't be maintained after that date. A future version of pip will drop support for Python 2.7.\u001b[0m\n",
      "Collecting dopamine-rl\n",
      "\u001b[?25l  Downloading https://files.pythonhosted.org/packages/71/be/b0283cbfe9742fc26ae3b8dabb51df871b3c748194951262bc4bdea8d831/dopamine_rl-2.0.1-py2-none-any.whl (72kB)\n",
      "\u001b[K    100% |████████████████████████████████| 81kB 427kB/s ta 0:00:01\n",
      "\u001b[?25hRequirement already satisfied, skipping upgrade: gym>=0.10.5 in /home/tsachi/env/gym (from dopamine-rl) (0.11.0)\n",
      "Requirement already satisfied, skipping upgrade: gin-config>=0.1.1 in /home/tsachi/env/lib/python2.7/site-packages (from dopamine-rl) (0.1.2)\n",
      "Requirement already satisfied, skipping upgrade: opencv-python>=3.4.1.15 in /home/tsachi/env/lib/python2.7/site-packages (from dopamine-rl) (3.4.5.20)\n",
      "Requirement already satisfied, skipping upgrade: absl-py>=0.2.2 in /home/tsachi/env/lib/python2.7/site-packages (from dopamine-rl) (0.6.1)\n",
      "Requirement already satisfied, skipping upgrade: scipy in /home/tsachi/env/lib/python2.7/site-packages (from gym>=0.10.5->dopamine-rl) (1.2.0)\n",
      "Requirement already satisfied, skipping upgrade: numpy>=1.10.4 in /home/tsachi/env/lib/python2.7/site-packages (from gym>=0.10.5->dopamine-rl) (1.15.4)\n",
      "Requirement already satisfied, skipping upgrade: requests>=2.0 in /home/tsachi/env/lib/python2.7/site-packages (from gym>=0.10.5->dopamine-rl) (2.21.0)\n",
      "Requirement already satisfied, skipping upgrade: six in /home/tsachi/env/lib/python2.7/site-packages (from gym>=0.10.5->dopamine-rl) (1.12.0)\n",
      "Requirement already satisfied, skipping upgrade: pyglet>=1.2.0 in /home/tsachi/env/lib/python2.7/site-packages (from gym>=0.10.5->dopamine-rl) (1.3.2)\n",
      "Requirement already satisfied, skipping upgrade: enum34>=1.1.6 in /home/tsachi/env/lib/python2.7/site-packages (from gin-config>=0.1.1->dopamine-rl) (1.1.6)\n",
      "Requirement already satisfied, skipping upgrade: urllib3<1.25,>=1.21.1 in /home/tsachi/env/lib/python2.7/site-packages (from requests>=2.0->gym>=0.10.5->dopamine-rl) (1.24.1)\n",
      "Requirement already satisfied, skipping upgrade: certifi>=2017.4.17 in /home/tsachi/env/lib/python2.7/site-packages (from requests>=2.0->gym>=0.10.5->dopamine-rl) (2018.11.29)\n",
      "Requirement already satisfied, skipping upgrade: chardet<3.1.0,>=3.0.2 in /home/tsachi/env/lib/python2.7/site-packages (from requests>=2.0->gym>=0.10.5->dopamine-rl) (3.0.4)\n",
      "Requirement already satisfied, skipping upgrade: idna<2.9,>=2.5 in /home/tsachi/env/lib/python2.7/site-packages (from requests>=2.0->gym>=0.10.5->dopamine-rl) (2.8)\n",
      "Requirement already satisfied, skipping upgrade: future in /home/tsachi/env/lib/python2.7/site-packages (from pyglet>=1.2.0->gym>=0.10.5->dopamine-rl) (0.17.1)\n",
      "Installing collected packages: dopamine-rl\n",
      "Successfully installed dopamine-rl-2.0.1\n",
      "\u001b[33mDEPRECATION: Python 2.7 will reach the end of its life on January 1st, 2020. Please upgrade your Python as Python 2.7 won't be maintained after that date. A future version of pip will drop support for Python 2.7.\u001b[0m\n",
      "Collecting cmake\n",
      "\u001b[?25l  Downloading https://files.pythonhosted.org/packages/ae/60/a63217f214caaa0e699b5e8e68b3e9b531870bd1f4e85660dff49a7e397c/cmake-3.13.3-cp27-cp27mu-manylinux1_x86_64.whl (15.9MB)\n",
      "\u001b[K    100% |████████████████████████████████| 15.9MB 485kB/s eta 0:00:01\n",
      "\u001b[?25hInstalling collected packages: cmake\n",
      "Successfully installed cmake-3.13.3\n",
      "\u001b[33mDEPRECATION: Python 2.7 will reach the end of its life on January 1st, 2020. Please upgrade your Python as Python 2.7 won't be maintained after that date. A future version of pip will drop support for Python 2.7.\u001b[0m\n",
      "Requirement already satisfied: atari_py in /home/tsachi/env/lib/python2.7/site-packages (0.1.7)\n",
      "Requirement already satisfied: six in /home/tsachi/env/lib/python2.7/site-packages (from atari_py) (1.12.0)\n",
      "Requirement already satisfied: numpy in /home/tsachi/env/lib/python2.7/site-packages (from atari_py) (1.15.4)\n"
     ]
    }
   ],
   "source": [
    "# @title Install necessary packages.\n",
    "!pip install --upgrade --no-cache-dir dopamine-rl\n",
    "!pip install cmake\n",
    "!pip install atari_py"
   ]
  },
  {
   "cell_type": "code",
   "execution_count": null,
   "metadata": {
    "colab": {
     "base_uri": "https://localhost:8080/",
     "height": 1094
    },
    "colab_type": "code",
    "id": "0OCpL9IZOF08",
    "outputId": "32279e50-34d5-44fc-dbe9-7b48c611162a"
   },
   "outputs": [],
   "source": [
    "# @title Necessary imports and globals.\n",
    "\n",
    "import numpy as np\n",
    "import os\n",
    "from dopamine.agents.dqn import dqn_agent\n",
    "from dopamine.discrete_domains import run_experiment\n",
    "from dopamine.colab import utils as colab_utils\n",
    "from absl import flags\n",
    "\n",
    "BASE_PATH = './logs/'  # @param\n",
    "GAMES = ['Pong']  # @param\n",
    "\n",
    "import matplotlib.pyplot as plt\n",
    "\n",
    "for game in GAMES:\n",
    "  # Use our provided colab utils to load this log file. The second returned \n",
    "  raw_data, _ = colab_utils.load_statistics(\n",
    "      '/content/samples/rainbow/{}_v4/logs'.format(game), verbose=False)\n",
    "  summarized_data = colab_utils.summarize_data(\n",
    "      raw_data, ['train_episode_returns'])\n",
    "  plt.plot(summarized_data['train_episode_returns'], label='episode returns')\n",
    "  plt.plot()\n",
    "  plt.title('Rainbow training - {}'.format(game))\n",
    "  plt.xlabel('Iteration')\n",
    "  plt.ylabel('Return')\n",
    "  plt.legend()\n",
    "  plt.show()"
   ]
  }
 ],
 "metadata": {
  "colab": {
   "name": "load_statistics.ipynb",
   "provenance": [],
   "toc_visible": true,
   "version": "0.3.2"
  },
  "kernelspec": {
   "display_name": "Python 3",
   "language": "python",
   "name": "python3"
  },
  "language_info": {
   "codemirror_mode": {
    "name": "ipython",
    "version": 3
   },
   "file_extension": ".py",
   "mimetype": "text/x-python",
   "name": "python",
   "nbconvert_exporter": "python",
   "pygments_lexer": "ipython3",
   "version": "3.6.7"
  }
 },
 "nbformat": 4,
 "nbformat_minor": 1
}
