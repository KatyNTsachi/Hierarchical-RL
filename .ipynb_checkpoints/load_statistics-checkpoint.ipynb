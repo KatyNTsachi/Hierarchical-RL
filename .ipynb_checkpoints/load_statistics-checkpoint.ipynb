{
 "cells": [
  {
   "cell_type": "markdown",
   "metadata": {},
   "source": [
    "# Necessary imports and globals"
   ]
  },
  {
   "cell_type": "code",
   "execution_count": 1,
   "metadata": {},
   "outputs": [],
   "source": [
    "%matplotlib notebook\n",
    "\n",
    "import numpy as np\n",
    "import os\n",
    "from dopamine.agents.dqn import dqn_agent\n",
    "from dopamine.discrete_domains import run_experiment\n",
    "from dopamine.colab import utils as colab_utils\n",
    "from absl import flags\n",
    "\n",
    "BASE_PATH = './'  # @param\n",
    "#GAMES = ['cars']  # @param\n",
    "GAMES = ['breakout']  # @param\n",
    "\n",
    "import matplotlib.pyplot as plt"
   ]
  },
  {
   "cell_type": "code",
   "execution_count": 2,
   "metadata": {},
   "outputs": [
    {
     "name": "stdout",
     "output_type": "stream",
     "text": [
      "('NUM_OF_FOLDERS', 1)\n"
     ]
    },
    {
     "ename": "ValueError",
     "evalue": "No log data found at ./LOGS1/logs",
     "output_type": "error",
     "traceback": [
      "\u001b[0;31m---------------------------------------------------------------------------\u001b[0m",
      "\u001b[0;31mValueError\u001b[0m                                Traceback (most recent call last)",
      "\u001b[0;32m<ipython-input-2-56ff8cacaead>\u001b[0m in \u001b[0;36m<module>\u001b[0;34m()\u001b[0m\n\u001b[1;32m     19\u001b[0m \u001b[0mraw_data\u001b[0m \u001b[0;34m=\u001b[0m \u001b[0;34m{\u001b[0m\u001b[0;34m}\u001b[0m\u001b[0;34m\u001b[0m\u001b[0;34m\u001b[0m\u001b[0m\n\u001b[1;32m     20\u001b[0m \u001b[0;32mfor\u001b[0m \u001b[0mfolder_number\u001b[0m \u001b[0;32min\u001b[0m \u001b[0mrange\u001b[0m\u001b[0;34m(\u001b[0m\u001b[0;36m1\u001b[0m\u001b[0;34m,\u001b[0m \u001b[0mNUM_OF_FOLDERS\u001b[0m \u001b[0;34m+\u001b[0m \u001b[0;36m1\u001b[0m\u001b[0;34m)\u001b[0m\u001b[0;34m:\u001b[0m\u001b[0;34m\u001b[0m\u001b[0;34m\u001b[0m\u001b[0m\n\u001b[0;32m---> 21\u001b[0;31m     \u001b[0mraw_data\u001b[0m\u001b[0;34m[\u001b[0m\u001b[0mfolder_number\u001b[0m\u001b[0;34m]\u001b[0m\u001b[0;34m,\u001b[0m \u001b[0m_\u001b[0m \u001b[0;34m=\u001b[0m \u001b[0mcolab_utils\u001b[0m\u001b[0;34m.\u001b[0m\u001b[0mload_statistics\u001b[0m\u001b[0;34m(\u001b[0m\u001b[0mfolder_path\u001b[0m\u001b[0;34m.\u001b[0m\u001b[0mformat\u001b[0m\u001b[0;34m(\u001b[0m\u001b[0mfolder_number\u001b[0m\u001b[0;34m)\u001b[0m\u001b[0;34m,\u001b[0m \u001b[0mverbose\u001b[0m\u001b[0;34m=\u001b[0m\u001b[0mFalse\u001b[0m\u001b[0;34m)\u001b[0m\u001b[0;34m\u001b[0m\u001b[0;34m\u001b[0m\u001b[0m\n\u001b[0m",
      "\u001b[0;32m/home/deep7/hierarchy/Hierarchical-RL/dopamine/colab/utils.pyc\u001b[0m in \u001b[0;36mload_statistics\u001b[0;34m(log_path, iteration_number, verbose)\u001b[0m\n\u001b[1;32m    103\u001b[0m   \u001b[0;31m# If no iteration is specified, we'll look for the most recent.\u001b[0m\u001b[0;34m\u001b[0m\u001b[0;34m\u001b[0m\u001b[0;34m\u001b[0m\u001b[0m\n\u001b[1;32m    104\u001b[0m   \u001b[0;32mif\u001b[0m \u001b[0miteration_number\u001b[0m \u001b[0;32mis\u001b[0m \u001b[0mNone\u001b[0m\u001b[0;34m:\u001b[0m\u001b[0;34m\u001b[0m\u001b[0;34m\u001b[0m\u001b[0m\n\u001b[0;32m--> 105\u001b[0;31m     \u001b[0miteration_number\u001b[0m \u001b[0;34m=\u001b[0m \u001b[0mget_latest_iteration\u001b[0m\u001b[0;34m(\u001b[0m\u001b[0mlog_path\u001b[0m\u001b[0;34m)\u001b[0m\u001b[0;34m\u001b[0m\u001b[0;34m\u001b[0m\u001b[0m\n\u001b[0m\u001b[1;32m    106\u001b[0m \u001b[0;34m\u001b[0m\u001b[0m\n\u001b[1;32m    107\u001b[0m   \u001b[0mlog_file\u001b[0m \u001b[0;34m=\u001b[0m \u001b[0;34m'%s/%s_%d'\u001b[0m \u001b[0;34m%\u001b[0m \u001b[0;34m(\u001b[0m\u001b[0mlog_path\u001b[0m\u001b[0;34m,\u001b[0m \u001b[0mFILE_PREFIX\u001b[0m\u001b[0;34m,\u001b[0m \u001b[0miteration_number\u001b[0m\u001b[0;34m)\u001b[0m\u001b[0;34m\u001b[0m\u001b[0;34m\u001b[0m\u001b[0m\n",
      "\u001b[0;32m/home/deep7/hierarchy/Hierarchical-RL/dopamine/colab/utils.pyc\u001b[0m in \u001b[0;36mget_latest_iteration\u001b[0;34m(path)\u001b[0m\n\u001b[1;32m    148\u001b[0m \u001b[0;34m\u001b[0m\u001b[0m\n\u001b[1;32m    149\u001b[0m   \u001b[0;32mif\u001b[0m \u001b[0;32mnot\u001b[0m \u001b[0mlog_files\u001b[0m\u001b[0;34m:\u001b[0m\u001b[0;34m\u001b[0m\u001b[0;34m\u001b[0m\u001b[0m\n\u001b[0;32m--> 150\u001b[0;31m     \u001b[0;32mraise\u001b[0m \u001b[0mValueError\u001b[0m\u001b[0;34m(\u001b[0m\u001b[0;34m'No log data found at {}'\u001b[0m\u001b[0;34m.\u001b[0m\u001b[0mformat\u001b[0m\u001b[0;34m(\u001b[0m\u001b[0mpath\u001b[0m\u001b[0;34m)\u001b[0m\u001b[0;34m)\u001b[0m\u001b[0;34m\u001b[0m\u001b[0;34m\u001b[0m\u001b[0m\n\u001b[0m\u001b[1;32m    151\u001b[0m \u001b[0;34m\u001b[0m\u001b[0m\n\u001b[1;32m    152\u001b[0m   \u001b[0;32mdef\u001b[0m \u001b[0mextract_iteration\u001b[0m\u001b[0;34m(\u001b[0m\u001b[0mx\u001b[0m\u001b[0;34m)\u001b[0m\u001b[0;34m:\u001b[0m\u001b[0;34m\u001b[0m\u001b[0;34m\u001b[0m\u001b[0m\n",
      "\u001b[0;31mValueError\u001b[0m: No log data found at ./LOGS1/logs"
     ]
    }
   ],
   "source": [
    "NUM_OF_FOLDERS = 0\n",
    "# eval_str = \"train\"\n",
    "eval_str = \"eval\"\n",
    "\n",
    "#archive\n",
    "# folder_path = './LOGS_ARCHIVE/hierarchy -  breakout- original gin - 3 identical agents/LOGS{:d}/logs'\n",
    "\n",
    "#original\n",
    "# folder_path = \"/home/deep7/hierarchy/Hierarchical-RL/LOGS_ARCHIVE/hierarchy -  breakout- original gin - 3 identical agents/LOGS{:d}/logs\"\n",
    "folder_path = './LOGS{:d}/logs'\n",
    "for ii in range(1, 13):\n",
    "    if os.path.isdir( folder_path.format(ii) ) == False:\n",
    "        break\n",
    "    else:\n",
    "        NUM_OF_FOLDERS = ii\n",
    "\n",
    "print(\"NUM_OF_FOLDERS\", NUM_OF_FOLDERS)\n",
    "\n",
    "raw_data = {}\n",
    "for folder_number in range(1, NUM_OF_FOLDERS + 1):  \n",
    "    raw_data[folder_number], _ = colab_utils.load_statistics(folder_path.format(folder_number), verbose=False)"
   ]
  },
  {
   "cell_type": "code",
   "execution_count": null,
   "metadata": {},
   "outputs": [],
   "source": [
    "#num of sub agents\n",
    "NUM_OF_AGENTS = 0 \n",
    "\n",
    "action = 0\n",
    "\n",
    "for agent in range( 20 ):\n",
    "    try:\n",
    "        name_of_data = '{}_agent_{:d}action_{:d}_hist'.format( eval_str, agent, action )\n",
    "        summarized_data_two = colab_utils.summarize_data( raw_data[1], [name_of_data])\n",
    "    except:\n",
    "        NUM_OF_AGENTS = agent \n",
    "        break\n",
    "\n",
    "print(\"NUM_OF_AGENTS\", NUM_OF_AGENTS)"
   ]
  },
  {
   "cell_type": "code",
   "execution_count": null,
   "metadata": {},
   "outputs": [],
   "source": [
    "#num of sub agents\n",
    "NUM_OF_ACTIONS = 0 \n",
    "\n",
    "agent = 0\n",
    "\n",
    "for action in range( 20 ):\n",
    "    try:\n",
    "        name_of_data = '{}_agent_{:d}action_{:d}_hist'.format( \"train\", agent, action )\n",
    "        summarized_data_two = colab_utils.summarize_data( raw_data[1], [name_of_data])\n",
    "    except:\n",
    "        NUM_OF_ACTIONS = action \n",
    "        break\n",
    "\n",
    "        \n",
    "print(\"NUM_OF_ACTIONS\", NUM_OF_ACTIONS)\n"
   ]
  },
  {
   "cell_type": "markdown",
   "metadata": {},
   "source": [
    "# Episode Rerurns"
   ]
  },
  {
   "cell_type": "code",
   "execution_count": null,
   "metadata": {
    "scrolled": false
   },
   "outputs": [],
   "source": [
    "for game in GAMES:\n",
    "    \n",
    "    plt.figure()\n",
    "\n",
    "    for i in range(1, NUM_OF_FOLDERS + 1):\n",
    "\n",
    "        summarized_data = colab_utils.summarize_data(\n",
    "                                                     raw_data[i],\\\n",
    "                                                     [eval_str + '_episode_returns']\\\n",
    "                                                    )\n",
    "        plt.plot(summarized_data[eval_str + '_episode_returns'], label='episode returns')\n",
    "        plt.xlabel('Iteration')\n",
    "        plt.ylabel('Return')\n",
    "        plt.legend()\n",
    "        plt.title('return of all of the super agents')\n",
    "    \n",
    "    plt.show()"
   ]
  },
  {
   "cell_type": "markdown",
   "metadata": {},
   "source": [
    "# Show Specific Statistics For Hierarchical Agent"
   ]
  },
  {
   "cell_type": "markdown",
   "metadata": {},
   "source": [
    "### average return of each agent"
   ]
  },
  {
   "cell_type": "code",
   "execution_count": null,
   "metadata": {
    "scrolled": false
   },
   "outputs": [],
   "source": [
    "# TODO: we need to cancell the normalization.\n",
    "#  train_episode_dqn_utilization\n",
    "\n",
    "\n",
    "for i in range(1, NUM_OF_FOLDERS + 1):\n",
    "\n",
    "    plt.figure()\n",
    "\n",
    "    for j in range ( NUM_OF_AGENTS ):\n",
    "        \n",
    "        #get episode length \n",
    "        name_of_data = '{}_agent_{:d}_average_episode_returns'.format(eval_str, j)\n",
    "        summarized_data_two = colab_utils.summarize_data( raw_data[i], [name_of_data])\n",
    "        \n",
    "        \n",
    "        plt.plot( summarized_data_two[name_of_data] , label=name_of_data )\n",
    "        \n",
    "    plt.xlabel('Iteration')\n",
    "    plt.ylabel('Average episode returns')\n",
    "    plt.title( 'Average return of super agent {:d}'.format(i) )\n",
    "    plt.legend()\n",
    "    plt.show()"
   ]
  },
  {
   "cell_type": "markdown",
   "metadata": {},
   "source": [
    "### Utilization precentage of each agent over one phase:"
   ]
  },
  {
   "cell_type": "code",
   "execution_count": null,
   "metadata": {
    "scrolled": false
   },
   "outputs": [],
   "source": [
    "# TODO: we need to do the same for every supper agent.\n",
    "\n",
    "\n",
    "for folder_number in range(1, NUM_OF_FOLDERS + 1):\n",
    "    \n",
    "    plt.figure()                                    \n",
    "\n",
    "    for i in range(NUM_OF_AGENTS):\n",
    "\n",
    "        name_of_data = eval_str + '_episode_dqn_utilization_' + str(i)\n",
    "        summarized_data_two = colab_utils.summarize_data( raw_data[folder_number], [name_of_data])\n",
    "        plt.plot( summarized_data_two[name_of_data], label=name_of_data )\n",
    "\n",
    "    plt.xlabel('Iteration')\n",
    "    plt.ylabel('Utilization Presentage')\n",
    "    plt.title('Utilization precentage of super agent number{:d}: '.format(folder_number))\n",
    "    plt.legend()\n",
    "    plt.show()\n"
   ]
  },
  {
   "cell_type": "markdown",
   "metadata": {},
   "source": [
    "### Action distribution of all sub agents"
   ]
  },
  {
   "cell_type": "code",
   "execution_count": null,
   "metadata": {
    "scrolled": false
   },
   "outputs": [],
   "source": [
    "for folder_number in range(1, NUM_OF_FOLDERS + 1):\n",
    "    \n",
    "    plt.figure()\n",
    "    for agent in range( 0, NUM_OF_AGENTS ):\n",
    "\n",
    "        plt.subplot(1, NUM_OF_AGENTS, agent + 1)\n",
    "\n",
    "        for action in range( NUM_OF_ACTIONS ):\n",
    "\n",
    "            name_of_data = '{}_agent_{:d}action_{:d}_hist'.format( eval_str, agent, action )\n",
    "            summarized_data_two = colab_utils.summarize_data( raw_data[folder_number], [name_of_data])\n",
    "            plt.plot( summarized_data_two[name_of_data], label=name_of_data )\n",
    "\n",
    "        plt.xlabel('Iteration')\n",
    "        plt.ylabel('Utilization Presentage of actions')\n",
    "\n",
    "        plt.legend()\n",
    "        plt.title('agent_{:d}'.format(agent))\n",
    "        plt.show()"
   ]
  },
  {
   "cell_type": "code",
   "execution_count": null,
   "metadata": {},
   "outputs": [],
   "source": []
  },
  {
   "cell_type": "code",
   "execution_count": null,
   "metadata": {},
   "outputs": [],
   "source": []
  },
  {
   "cell_type": "code",
   "execution_count": null,
   "metadata": {},
   "outputs": [],
   "source": []
  },
  {
   "cell_type": "code",
   "execution_count": null,
   "metadata": {},
   "outputs": [],
   "source": []
  }
 ],
 "metadata": {
  "colab": {
   "name": "load_statistics.ipynb",
   "provenance": [],
   "toc_visible": true,
   "version": "0.3.2"
  },
  "kernelspec": {
   "display_name": "Python 3",
   "language": "python",
   "name": "python3"
  },
  "language_info": {
   "codemirror_mode": {
    "name": "ipython",
    "version": 2
   },
   "file_extension": ".py",
   "mimetype": "text/x-python",
   "name": "python",
   "nbconvert_exporter": "python",
   "pygments_lexer": "ipython2",
   "version": "2.7.15rc1"
  }
 },
 "nbformat": 4,
 "nbformat_minor": 1
}
